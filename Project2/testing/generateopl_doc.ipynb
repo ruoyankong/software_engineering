{
 "cells": [
  {
   "cell_type": "code",
   "execution_count": 1,
   "metadata": {},
   "outputs": [],
   "source": [
    "fw = open('oplBallot_500000.csv',\"w\")\n",
    "fw.write(\"OPL\\n\")\n",
    "fw.write(\"3\\n\")\n",
    "fw.write(\"500000\\n\")\n",
    "fw.write(\"6\\n\")\n",
    "text = \"[Pike,D]\\n[Foster,D]\\n[Deutsch,R]\\n[Borg,R]\\n[Jones,R]\\n[Smith,I]\\n\"\n",
    "fw.write(text)\n",
    "text2 = \"1,,,,,\\n1,,,,,\\n,1,,,,\\n,,,,1,\\n,,,,,1\\n,,,1,,\\n,,,1,,\\n1,,,,,\\n,1,,,,\\n,1,,,,\\n\"\n",
    "fw.write(text2*50000)\n",
    "fw.close()"
   ]
  },
  {
   "cell_type": "code",
   "execution_count": 7,
   "metadata": {},
   "outputs": [],
   "source": [
    "fw = open('cplBallot_500000.csv',\"w\")\n",
    "fw.write(\"CPL\\n\")\n",
    "fw.write(\"4\\n\")\n",
    "fw.write(\"[D,R,G,I]\\n\")\n",
    "fw.write(\"7\\n\")\n",
    "fw.write(\"500000\\n\")\n",
    "fw.write(\"16\\n\")\n",
    "text = \"\"\"[Pike,D,1]\n",
    "[Foster,D,2]\n",
    "[Floyd,D,3]\n",
    "[Jones,D,4]\n",
    "[Mallory,D,5]\n",
    "[Deutsch,R,1]\n",
    "[Wong,R,2]\n",
    "[Walters,R,3]\n",
    "[Keller,R,4]\n",
    "[Borg,R,5]\n",
    "[Jones,G,1]\n",
    "[Smith,G,2]\n",
    "[Lewis,G,3]\n",
    "[Smith,G,4]\n",
    "[Li,G,5]\n",
    "[Perez,I,1]\\n\"\"\"\n",
    "fw.write(text)\n",
    "text2 = \"\"\"1,,,\n",
    "1,,,\n",
    ",1,,\n",
    ",1,,\n",
    ",,1,\n",
    ",,,1\n",
    ",,1,\n",
    "1,,,\n",
    ",1,,\n",
    ",,1,\n",
    ",,1,\n",
    ",1,,\n",
    ",1,,\n",
    "1,,,\n",
    "1,,,\n",
    ",1,,\n",
    ",1,,\n",
    ",,1,\n",
    ",,,1\n",
    ",,1,\n",
    "1,,,\n",
    ",1,,\n",
    ",,1,\n",
    ",,1,\n",
    ",1,,\\n\"\"\"\n",
    "fw.write(text2*20000)\n",
    "fw.close()"
   ]
  },
  {
   "cell_type": "code",
   "execution_count": null,
   "metadata": {},
   "outputs": [],
   "source": []
  }
 ],
 "metadata": {
  "kernelspec": {
   "display_name": "Python 3",
   "language": "python",
   "name": "python3"
  },
  "language_info": {
   "codemirror_mode": {
    "name": "ipython",
    "version": 3
   },
   "file_extension": ".py",
   "mimetype": "text/x-python",
   "name": "python",
   "nbconvert_exporter": "python",
   "pygments_lexer": "ipython3",
   "version": "3.7.3"
  }
 },
 "nbformat": 4,
 "nbformat_minor": 2
}
